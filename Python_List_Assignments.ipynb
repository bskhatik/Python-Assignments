{
 "cells": [
  {
   "cell_type": "code",
   "execution_count": 29,
   "id": "0e030e65",
   "metadata": {},
   "outputs": [
    {
     "name": "stdout",
     "output_type": "stream",
     "text": [
      "List is not Empty\n",
      "List is empty\n"
     ]
    }
   ],
   "source": [
    "# Q.1 Write a Python Program to Check a list is empty or not.\n",
    "\n",
    "\n",
    "\n",
    "def list_is_empty(listt):\n",
    "    if len(listt)==0:                         # Here i have made function to execute conditional statement\n",
    "        return True\n",
    "    else:\n",
    "        return False\n",
    "    \n",
    "\n",
    "listt=[\"Bharat\", \"Avni\", \"Prem\"]          # Here i have given some arguments in list and called a function to check condition\n",
    "\n",
    "if list_is_empty(listt):\n",
    "    print(\"List is empty\")\n",
    "else:\n",
    "    print(\"List is not Empty\")\n",
    "    \n",
    "    \n",
    "     \n",
    "listt=[]                                     # Here I made empty list and called function to execute conditional statements\n",
    "\n",
    "if  list_is_empty(listt):\n",
    "    print(\"List is empty\")\n",
    "else:\n",
    "    print(\"List is not Empty\")\n",
    "    \n"
   ]
  },
  {
   "cell_type": "code",
   "execution_count": 38,
   "id": "0efea8a2",
   "metadata": {},
   "outputs": [
    {
     "name": "stdout",
     "output_type": "stream",
     "text": [
      "My Originnal List: ['Bharat', 'Ravi', 'Age', 'Bharat']\n",
      "My List without Duplicates: ['Age', 'Ravi', 'Bharat']\n"
     ]
    }
   ],
   "source": [
    "#  Q.2  Write a Python Program to remove duplicates from a list.\n",
    "\n",
    "\n",
    "\n",
    "def removeduplicates(mylist):        # Here i difined function using set() method which only takesunique elements and give output in list\n",
    "    return list(set(mylist))\n",
    "\n",
    "\n",
    "mylist=[\"Bharat\",\"Ravi\",\"Age\",\"Bharat\"]               # Here i made list which have Bharat Named Duplicate\n",
    "print(\"My Originnal List:\", mylist)\n",
    "print(\"My List without Duplicates:\", removeduplicates(mylist))\n"
   ]
  },
  {
   "cell_type": "code",
   "execution_count": 10,
   "id": "5efffbc8",
   "metadata": {},
   "outputs": [
    {
     "name": "stdout",
     "output_type": "stream",
     "text": [
      "There is at least one common member in both lists.\n"
     ]
    }
   ],
   "source": [
    "# Q.3  Write a Python function that takes two list and returns True if they have at least one common member.\n",
    "\n",
    "\n",
    "\n",
    "def commonmember(listt1, listt2):\n",
    "    for items in listt1:                                   #Here i have firstly defined function to fulfil condition\n",
    "        if items in listt2:\n",
    "            return True\n",
    "    return False\n",
    "\n",
    "listt1 = [1, 2, 3, 4, 5, 6, 7, 8, 9, 10]\n",
    "listt2 = [10, 11, 12, 13, 14, 15, 16]\n",
    "\n",
    "if commonmember(listt1, listt2):                                          # Here we have called function to excute between listt1 and listt2 \n",
    "    print(\"There is at least one common member in both lists.\")\n",
    "else:\n",
    "    print(\"There is no common member in both lists.\")\n"
   ]
  },
  {
   "cell_type": "code",
   "execution_count": 13,
   "id": "4d6c02e0",
   "metadata": {},
   "outputs": [
    {
     "name": "stdout",
     "output_type": "stream",
     "text": [
      "{1, 2, 3, 4, 5, 6, 7, 8, 9, 10}\n",
      "{1, 3, 5, 7, 9, 11, 13, 15, 17}\n",
      "[2, 4, 6, 8, 10]\n"
     ]
    }
   ],
   "source": [
    "# Q.4 Write a Python Program to get the difference between the two lists.\n",
    "\n",
    "def differ(list1,list2):\n",
    "    h=list(set(list1)-set(list2))\n",
    "    return h\n",
    "\n",
    "\n",
    "list1=[1,2,3,4,5,6,7,8,9,10,10,9,8,7,6]\n",
    "list2=[1,3,5,7,9,11,13,15,17]\n",
    "\n",
    "\n",
    "print(set(list1))\n",
    "print(set(list2))\n",
    "print(differ(list1,list2))\n",
    "\n",
    "\n"
   ]
  },
  {
   "cell_type": "code",
   "execution_count": null,
   "id": "ed7ceff1",
   "metadata": {},
   "outputs": [],
   "source": []
  }
 ],
 "metadata": {
  "kernelspec": {
   "display_name": "Python 3 (ipykernel)",
   "language": "python",
   "name": "python3"
  },
  "language_info": {
   "codemirror_mode": {
    "name": "ipython",
    "version": 3
   },
   "file_extension": ".py",
   "mimetype": "text/x-python",
   "name": "python",
   "nbconvert_exporter": "python",
   "pygments_lexer": "ipython3",
   "version": "3.10.9"
  }
 },
 "nbformat": 4,
 "nbformat_minor": 5
}
