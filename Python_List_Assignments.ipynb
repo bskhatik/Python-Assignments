{
 "cells": [
  {
   "cell_type": "code",
   "execution_count": 29,
   "id": "0e030e65",
   "metadata": {},
   "outputs": [
    {
     "name": "stdout",
     "output_type": "stream",
     "text": [
      "List is not Empty\n",
      "List is empty\n"
     ]
    }
   ],
   "source": [
    "# Q.1 Write a Python Program to Check a list is empty or not.\n",
    "\n",
    "\n",
    "\n",
    "def list_is_empty(listt):\n",
    "    if len(listt)==0:                         # Here i have made function to execute conditional statement\n",
    "        return True\n",
    "    else:\n",
    "        return False\n",
    "    \n",
    "\n",
    "listt=[\"Bharat\", \"Avni\", \"Prem\"]          # Here i have given some arguments in list and called a function to check condition\n",
    "\n",
    "if list_is_empty(listt):\n",
    "    print(\"List is empty\")\n",
    "else:\n",
    "    print(\"List is not Empty\")\n",
    "    \n",
    "    \n",
    "     \n",
    "listt=[]                                     # Here I made empty list and called function to execute conditional statements\n",
    "\n",
    "if  list_is_empty(listt):\n",
    "    print(\"List is empty\")\n",
    "else:\n",
    "    print(\"List is not Empty\")\n",
    "    \n"
   ]
  },
  {
   "cell_type": "code",
   "execution_count": 38,
   "id": "0efea8a2",
   "metadata": {},
   "outputs": [
    {
     "name": "stdout",
     "output_type": "stream",
     "text": [
      "My Originnal List: ['Bharat', 'Ravi', 'Age', 'Bharat']\n",
      "My List without Duplicates: ['Age', 'Ravi', 'Bharat']\n"
     ]
    }
   ],
   "source": [
    "#  Q.2  Write a Python Program to remove duplicates from a list.\n",
    "\n",
    "\n",
    "\n",
    "def removeduplicates(mylist):        # Here i difined function using set() method which only takesunique elements and give output in list\n",
    "    return list(set(mylist))\n",
    "\n",
    "\n",
    "mylist=[\"Bharat\",\"Ravi\",\"Age\",\"Bharat\"]               # Here i made list which have Bharat Named Duplicate\n",
    "print(\"My Originnal List:\", mylist)\n",
    "print(\"My List without Duplicates:\", removeduplicates(mylist))\n"
   ]
  },
  {
   "cell_type": "code",
   "execution_count": 10,
   "id": "5efffbc8",
   "metadata": {},
   "outputs": [
    {
     "name": "stdout",
     "output_type": "stream",
     "text": [
      "There is at least one common member in both lists.\n"
     ]
    }
   ],
   "source": [
    "# Q.3  Write a Python function that takes two list and returns True if they have at least one common member.\n",
    "\n",
    "\n",
    "\n",
    "def commonmember(listt1, listt2):\n",
    "    for items in listt1:                                   #Here i have firstly defined function to fulfil condition\n",
    "        if items in listt2:\n",
    "            return True\n",
    "    return False\n",
    "\n",
    "listt1 = [1, 2, 3, 4, 5, 6, 7, 8, 9, 10]\n",
    "listt2 = [10, 11, 12, 13, 14, 15, 16]\n",
    "\n",
    "if commonmember(listt1, listt2):                                          # Here we have called function to excute between listt1 and listt2 \n",
    "    print(\"There is at least one common member in both lists.\")\n",
    "else:\n",
    "    print(\"There is no common member in both lists.\")\n"
   ]
  },
  {
   "cell_type": "code",
   "execution_count": 13,
   "id": "4d6c02e0",
   "metadata": {},
   "outputs": [
    {
     "name": "stdout",
     "output_type": "stream",
     "text": [
      "{1, 2, 3, 4, 5, 6, 7, 8, 9, 10}\n",
      "{1, 3, 5, 7, 9, 11, 13, 15, 17}\n",
      "[2, 4, 6, 8, 10]\n"
     ]
    }
   ],
   "source": [
    "# Q.4 Write a Python Program to get the difference between the two lists.\n",
    "\n",
    "def differ(list1,list2):\n",
    "    h=list(set(list1)-set(list2))\n",
    "    return h\n",
    "\n",
    "\n",
    "list1=[1,2,3,4,5,6,7,8,9,10,10,9,8,7,6]\n",
    "list2=[1,3,5,7,9,11,13,15,17]\n",
    "\n",
    "\n",
    "print(set(list1))\n",
    "print(set(list2))\n",
    "print(differ(list1,list2))\n",
    "\n",
    "\n"
   ]
  },
  {
   "cell_type": "code",
   "execution_count": 6,
   "id": "ed7ceff1",
   "metadata": {},
   "outputs": [
    {
     "name": "stdout",
     "output_type": "stream",
     "text": [
      "[2, 4, 8, 9, 10, 11]\n",
      "Second Smallest Nummber in list: 4\n"
     ]
    }
   ],
   "source": [
    "# Q.5 Write a Python Program to find second smallest number in list.\n",
    "\n",
    "\n",
    "lis=[10,11,9,8,2,4]\n",
    "\n",
    "h=lis.sort()\n",
    "print(lis)\n",
    "print(\"Second Smallest Nummber in list:\", lis[1])"
   ]
  },
  {
   "cell_type": "code",
   "execution_count": 8,
   "id": "7ffca006",
   "metadata": {},
   "outputs": [
    {
     "name": "stdout",
     "output_type": "stream",
     "text": [
      "Sorted List in Small to Large Number:  [1, 2, 7, 8, 9, 11, 12, 13, 15]\n",
      "Second Largest Number in list:  13\n"
     ]
    }
   ],
   "source": [
    "# Q.6 Write a Python Program to find second largest number in list.\n",
    "\n",
    "liss=[1,8,9,7,2,12,15,13,11]\n",
    "\n",
    "liss.sort()\n",
    "\n",
    "print(\"Sorted List in Small to Large Number: \", liss)\n",
    "print(\"Second Largest Number in list: \", liss[-2])"
   ]
  },
  {
   "cell_type": "code",
   "execution_count": 11,
   "id": "684194ef",
   "metadata": {},
   "outputs": [
    {
     "name": "stdout",
     "output_type": "stream",
     "text": [
      "Elements before set method: ['Bharat', 'Khatik', 'Khatik', 5, 6, 5, 7, 7]\n",
      "Unique Elements after set method: [5, 'Khatik', 7, 6, 'Bharat']\n",
      "        \n",
      "Elements: Frequency\n",
      "5 : 2\n",
      "Khatik : 2\n",
      "7 : 2\n",
      "6 : 1\n",
      "Bharat : 1\n"
     ]
    }
   ],
   "source": [
    "# Q.7 Write a Python Program to get the frequency of the elements in list.\n",
    "\n",
    "\n",
    "def unique_elements(lst):\n",
    "    unique_elements = list(set(lst))\n",
    "    print(\"Elements before set method:\",listt)\n",
    "    print(\"Unique Elements after set method:\",unique_elements)\n",
    "    print(\"        \")\n",
    "    print(\"Elements: Frequency\")\n",
    "    for element in unique_elements:\n",
    "        print(element, \":\", lst.count(element))\n",
    "\n",
    "\n",
    "listt = [\"Bharat\", \"Khatik\", \"Khatik\", 5, 6, 5, 7, 7]\n",
    "unique_elements(listt)\n"
   ]
  },
  {
   "cell_type": "code",
   "execution_count": 81,
   "id": "16f2a843",
   "metadata": {},
   "outputs": [
    {
     "name": "stdout",
     "output_type": "stream",
     "text": [
      "After Conversion 'Multiple integer' in list into 'Single integer': 113350\n"
     ]
    }
   ],
   "source": [
    "# Q.8 Write a Python Program to convert a list of multiple integers into a single integer \n",
    "    # sample lihst--[11,33,50] ,  Expected Output--113350\n",
    "\n",
    "    \n",
    "lists = [11, 33, 50]\n",
    "output = ''                     #here we takes empty string to fetch each elements of list one by one in to string\n",
    "\n",
    "\n",
    "for num in lists:\n",
    "    output += str(num)                         # here we converted each elements of list in to string and doing addition using += sign\n",
    "\n",
    "\n",
    "\n",
    "print(\"After Conversion 'Multiple integer' in list into 'Single integer':\",output)"
   ]
  },
  {
   "cell_type": "code",
   "execution_count": null,
   "id": "3e139a49",
   "metadata": {},
   "outputs": [],
   "source": [
    "#  Q.9 Not Visible in PDF  "
   ]
  },
  {
   "cell_type": "code",
   "execution_count": 86,
   "id": "48519138",
   "metadata": {},
   "outputs": [
    {
     "name": "stdout",
     "output_type": "stream",
     "text": [
      "All dictionaries are empty\n",
      "One or more dictionary is not empty\n"
     ]
    }
   ],
   "source": [
    "# Q.10  Write a Python Program to check if all dictionaries in a list are empty or not.\n",
    "\n",
    "list_of_dictionaries = [{}, {}, {}]\n",
    "all_empty = True\n",
    "\n",
    "for dictionary in list_of_dictionaries:\n",
    "    if bool(dictionary):\n",
    "        all_empty = False\n",
    "        break\n",
    "\n",
    "if all_empty:\n",
    "    print(\"All dictionaries are empty\")\n",
    "else:\n",
    "    print(\"At least one dictionary is not empty\")\n",
    "    \n",
    "\n",
    "    \n",
    "    \n",
    "list_of_dictionaries = [{1,2}, {}, {}]\n",
    "all_empty = True\n",
    "\n",
    "for dictionary in list_of_dictionaries:\n",
    "    if bool(dictionary):\n",
    "        all_empty = False\n",
    "        break\n",
    "\n",
    "if all_empty:\n",
    "    print(\"All dictionaries are empty\")\n",
    "else:\n",
    "    print(\"One or more dictionary is not empty\")\n"
   ]
  }
 ],
 "metadata": {
  "kernelspec": {
   "display_name": "Python 3 (ipykernel)",
   "language": "python",
   "name": "python3"
  },
  "language_info": {
   "codemirror_mode": {
    "name": "ipython",
    "version": 3
   },
   "file_extension": ".py",
   "mimetype": "text/x-python",
   "name": "python",
   "nbconvert_exporter": "python",
   "pygments_lexer": "ipython3",
   "version": "3.10.9"
  }
 },
 "nbformat": 4,
 "nbformat_minor": 5
}
