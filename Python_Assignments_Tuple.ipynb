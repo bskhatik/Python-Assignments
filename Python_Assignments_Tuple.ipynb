{
 "cells": [
  {
   "cell_type": "code",
   "execution_count": 4,
   "id": "9bd29c76",
   "metadata": {},
   "outputs": [
    {
     "name": "stdout",
     "output_type": "stream",
     "text": [
      "('Bharat', 10, 12.23, True)\n"
     ]
    }
   ],
   "source": [
    "# Q.1 Write a Python Program to create a tuple with different data type.\n",
    "\n",
    "\n",
    "\n",
    "tup= (\"Bharat\",10, 12.23,True)\n",
    "print(tup)"
   ]
  },
  {
   "cell_type": "code",
   "execution_count": 11,
   "id": "39ad3978",
   "metadata": {},
   "outputs": [
    {
     "name": "stdout",
     "output_type": "stream",
     "text": [
      "('Bharat', 0, 25.23, 'Khatik', 'Jay')\n",
      "(1, 2, 3, 4, 5, 6, 7, 8, 9, 10)\n"
     ]
    }
   ],
   "source": [
    "# Q.2 Write a Python Program to add an item in tuple.\n",
    "\n",
    "\n",
    "tupo= (\"Bharat\",0,25.23,\"Khatik\")    # we have converted tuple in to list than used append method to add an item\n",
    "fgj=list(tupo)\n",
    "fgj.append(\"Jay\")\n",
    "\n",
    "print(tuple(fgj))\n",
    "\n",
    "#or\n",
    "\n",
    "jak=(1,2,3,4,5,6,7,8,9)           # We have taken new item and than make it tuple after placing coma sign in round bracket to make it tuple and than added both\n",
    "\n",
    "item=10\n",
    "\n",
    "add=jak+(item,)\n",
    "\n",
    "print(add)"
   ]
  },
  {
   "cell_type": "code",
   "execution_count": 28,
   "id": "f4eed15e",
   "metadata": {},
   "outputs": [
    {
     "name": "stdout",
     "output_type": "stream",
     "text": [
      "My Name Is Bharat Khatik\n"
     ]
    },
    {
     "data": {
      "text/plain": [
       "str"
      ]
     },
     "execution_count": 28,
     "metadata": {},
     "output_type": "execute_result"
    }
   ],
   "source": [
    "#  Q.3 Write a python program to convert a tuple in to string.\n",
    "\n",
    "\n",
    "newtup=(\"My\", \"Name\", \"Is\", \"Bharat\", \"Khatik\")    # we used join method to itterate elements of tuple and join with empty string to output as string\n",
    "\n",
    "string=\" \".join(newtup)\n",
    "\n",
    "print(string)\n",
    "type(string)"
   ]
  },
  {
   "cell_type": "code",
   "execution_count": 37,
   "id": "dd138e80",
   "metadata": {},
   "outputs": [
    {
     "name": "stdout",
     "output_type": "stream",
     "text": [
      "{2, 5}\n"
     ]
    }
   ],
   "source": [
    "# Q.4 Write a Python Program to find the repeated items of tuple.\n",
    " \n",
    "'''we have taken element named and itterate in tupp and given \n",
    "condition that if element in tupp is greater than one time of frequency\n",
    "than give result in hjk but hjk gets duplicate elements hence we again\n",
    "passed the set method in new variable s than printed it'''\n",
    "\n",
    "\n",
    "tupp =(1,2,2,3,4,5,5,6)    \n",
    "hjk= (element for element in tupp if tupp.count(element)>1)    \n",
    "\n",
    "s=set(hjk)\n",
    "print(s)\n"
   ]
  },
  {
   "cell_type": "code",
   "execution_count": 39,
   "id": "f3e6d3ab",
   "metadata": {},
   "outputs": [
    {
     "name": "stdout",
     "output_type": "stream",
     "text": [
      "Length of Tuple is: 9\n"
     ]
    }
   ],
   "source": [
    "# Q.5 Write a python program to find the length of tuple.\n",
    "\n",
    "\n",
    "h=(1,2,2,2,3,4,5,6,7)\n",
    "\n",
    "print(\"Length of Tuple is:\",len(h))"
   ]
  },
  {
   "cell_type": "code",
   "execution_count": 43,
   "id": "a44d2c3f",
   "metadata": {},
   "outputs": [
    {
     "name": "stdout",
     "output_type": "stream",
     "text": [
      "{'Name': 'Bharat', 'Surname': 'Khatik'}\n"
     ]
    }
   ],
   "source": [
    "# Q.6 Write a python program to convert a tuple to a dictionary.\n",
    "\n",
    "gh=((\"Name\", \"Bharat\"), (\"Surname\", \"Khatik\"))\n",
    "\n",
    "empty_dict=dict(gh)\n",
    "\n",
    "print(empty_dict)"
   ]
  },
  {
   "cell_type": "code",
   "execution_count": null,
   "id": "fb976d01",
   "metadata": {},
   "outputs": [],
   "source": [
    "# Q.7 Write a Python Program to replace last value of tuples in a list.\n",
    "\n",
    "\n",
    "alist=[(10,20,40), (40,50,60), (70,80,90)]\n",
    "\n"
   ]
  },
  {
   "cell_type": "code",
   "execution_count": null,
   "id": "fdffa0ee",
   "metadata": {},
   "outputs": [],
   "source": [
    "# Q.8 "
   ]
  },
  {
   "cell_type": "code",
   "execution_count": null,
   "id": "f82c560e",
   "metadata": {},
   "outputs": [],
   "source": [
    "# Q. 9 Write a Python Program to sort a tuple by its float elements.\n",
    "\n",
    "\n",
    "lis=[(\"item1\", \"12.20\"),(\"item2\", \"15.10\"),(\"item3\", \"24.50\") ]\n",
    "\n",
    "\n"
   ]
  },
  {
   "cell_type": "code",
   "execution_count": 45,
   "id": "804495da",
   "metadata": {},
   "outputs": [
    {
     "name": "stdout",
     "output_type": "stream",
     "text": [
      "Count: 3\n"
     ]
    }
   ],
   "source": [
    "# Q.10 Write a Python Program to count the elements in a list until an element is tuple.\n",
    "\n",
    "\n",
    "\n",
    "listh = [1, 2, 3, (4, 5), 6, 7]\n",
    "count = 0\n",
    "                                # taken default value 0 for given list\n",
    "for element in listh:\n",
    "    if isinstance(element, tuple):\n",
    "        break\n",
    "    count += 1             #here we itterate element in list and check condition that whenever element come tuple it break the loop and add count \n",
    "\n",
    "\n",
    "print(\"Count:\", count)\n",
    "\n"
   ]
  }
 ],
 "metadata": {
  "kernelspec": {
   "display_name": "Python 3 (ipykernel)",
   "language": "python",
   "name": "python3"
  },
  "language_info": {
   "codemirror_mode": {
    "name": "ipython",
    "version": 3
   },
   "file_extension": ".py",
   "mimetype": "text/x-python",
   "name": "python",
   "nbconvert_exporter": "python",
   "pygments_lexer": "ipython3",
   "version": "3.10.9"
  }
 },
 "nbformat": 4,
 "nbformat_minor": 5
}
