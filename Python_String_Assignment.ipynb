{
 "cells": [
  {
   "cell_type": "code",
   "execution_count": null,
   "id": "ef63f2a5",
   "metadata": {},
   "outputs": [],
   "source": [
    " '''      \n",
    " Q.1 Write a python program to count the number of characters(character frequency) in a string \n",
    "     string is google.com ''' \n",
    "\n",
    "\n",
    "string = \"google.com\"                    \n",
    "frequency = {}\n",
    "\n",
    "for char in string:\n",
    "    if char in frequency:\n",
    "        frequency[char] += 1\n",
    "    else:\n",
    "        frequency[char] = 1\n",
    "\n",
    "print(\"Expected Result:\", frequency)\n"
   ]
  },
  {
   "cell_type": "code",
   "execution_count": null,
   "id": "5933228e",
   "metadata": {},
   "outputs": [],
   "source": [
    "''' Q.2  Write a Program to get a string from a given string where all occurrences of its first char have been changed to $ \n",
    "except its first char itself  \n",
    "string: restart \n",
    "Output: resta$t'''\n",
    "\n",
    "\n"
   ]
  },
  {
   "cell_type": "code",
   "execution_count": null,
   "id": "45283155",
   "metadata": {},
   "outputs": [],
   "source": [
    "'''Q.3 Write a python function that takes a list of words and returns the length of the longest one'''\n",
    "\n",
    "\n",
    "\n",
    "lst=[\"Bharat\",\"Pravin\", \"Suket\",\"Priyank\"]    \n",
    "\n",
    "ghj=max(len(word) for word in lst)     #here i have run for loop to word and the find length of all words than using max i found longest one\n",
    "\n",
    "print(\"Longest lengh of word in above list is: \",ghj)\n"
   ]
  },
  {
   "cell_type": "code",
   "execution_count": 31,
   "id": "1f15672b",
   "metadata": {},
   "outputs": [
    {
     "name": "stdout",
     "output_type": "stream",
     "text": [
      "'My' is 2 times in Sentence\n",
      "'Name' is 1 times in Sentence\n",
      "'is' is 2 times in Sentence\n",
      "'Bs' is 1 times in Sentence\n",
      "'Khatik' is 2 times in Sentence\n",
      "'and' is 1 times in Sentence\n",
      "'Surname' is 1 times in Sentence\n"
     ]
    }
   ],
   "source": [
    "'''Q.4 Write a python Program to count the occurrences of each word in given sentence'''\n",
    "\n",
    "sent=\"My Name is Bs Khatik and My Surname is Khatik\"\n",
    "\n",
    "count=sent.count(\"My\")\n",
    "\n",
    "print(\"'My' is\" ,count, \"times in Sentence\")\n",
    "\n",
    "count=sent.count(\"Name\")\n",
    "\n",
    "print(\"'Name' is\" ,count, \"times in Sentence\")\n",
    "\n",
    "count=sent.count(\"is\")\n",
    "\n",
    "print(\"'is' is\" ,count, \"times in Sentence\")\n",
    "\n",
    "\n",
    "count=sent.count(\"Bs\")\n",
    "\n",
    "print(\"'Bs' is\" ,count, \"times in Sentence\")\n",
    "\n",
    "count=sent.count(\"Khatik\")\n",
    "\n",
    "print(\"'Khatik' is\" ,count, \"times in Sentence\")\n",
    "\n",
    "count=sent.count(\"and\")\n",
    "\n",
    "print(\"'and' is\" ,count, \"times in Sentence\")\n",
    "\n",
    "\n",
    "count=sent.count(\"Surname\")\n",
    "\n",
    "print(\"'Surname' is\" ,count, \"times in Sentence\")\n"
   ]
  },
  {
   "cell_type": "code",
   "execution_count": null,
   "id": "b86d5a58",
   "metadata": {},
   "outputs": [],
   "source": [
    "'''Q.5 Write a Python function to convert a given string to all uppercase if it contains at least 2 uppercase character\n",
    "in the first 4 characters'''\n",
    "\n",
    "newstring= input(\"Enter Sentence in Alpha Format:\")\n",
    "\n",
    "\n",
    "\n",
    "\n",
    "\n"
   ]
  },
  {
   "cell_type": "code",
   "execution_count": null,
   "id": "d611956b",
   "metadata": {},
   "outputs": [],
   "source": [
    "'''Q.6  Write a Python Program to count and display the vowels of given text'''\n",
    "\n",
    "text= input(\"Enter a Text :\")\n",
    "\n",
    "vowels=\"AEIOUaeiou\"         #the vowels can be capital and small thats why i have written both\n",
    "\n",
    "count=len([char for char in text if char in vowels])         # here i call the loop for input to check the length of vowels\n",
    "\n",
    "display= set([char for char in text if char in vowels])      # here i used set to avoid duplication of same vowels\n",
    "\n",
    "print(\"Numbers of total Vowels:\", count)\n",
    "print(\"Vowels used in Sentence :\", display)\n",
    "\n"
   ]
  }
 ],
 "metadata": {
  "kernelspec": {
   "display_name": "Python 3 (ipykernel)",
   "language": "python",
   "name": "python3"
  },
  "language_info": {
   "codemirror_mode": {
    "name": "ipython",
    "version": 3
   },
   "file_extension": ".py",
   "mimetype": "text/x-python",
   "name": "python",
   "nbconvert_exporter": "python",
   "pygments_lexer": "ipython3",
   "version": "3.10.9"
  }
 },
 "nbformat": 4,
 "nbformat_minor": 5
}
